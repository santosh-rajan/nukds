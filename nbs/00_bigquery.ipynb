{
 "cells": [
  {
   "cell_type": "markdown",
   "metadata": {},
   "source": [
    "# Bigquery\n",
    "\n",
    "> Everything needed to get started to query from and query to "
   ]
  },
  {
   "cell_type": "code",
   "execution_count": 1,
   "metadata": {},
   "outputs": [],
   "source": [
    "#| default_exp bigquery"
   ]
  },
  {
   "cell_type": "code",
   "execution_count": 2,
   "metadata": {},
   "outputs": [],
   "source": [
    "#| hide\n",
    "from nbdev.showdoc import *"
   ]
  },
  {
   "cell_type": "code",
   "execution_count": 13,
   "metadata": {},
   "outputs": [],
   "source": [
    "#| export \n",
    "import logging\n",
    "import pandas as pd\n",
    "from google.cloud import bigquery"
   ]
  },
  {
   "cell_type": "code",
   "execution_count": 14,
   "metadata": {},
   "outputs": [],
   "source": [
    "#| export \n",
    "logger = logging.getLogger(__name__)"
   ]
  },
  {
   "cell_type": "markdown",
   "metadata": {},
   "source": [
    "## Initilize Client with Authentication Scopes"
   ]
  },
  {
   "cell_type": "markdown",
   "metadata": {},
   "source": [
    ":::{.callout-note}\n",
    "If you are not using authentication scopes, then the following is equivalent to:\n",
    "\n",
    "```python\n",
    "from google.cloud import bigquery\n",
    "client = bigquery.Client()\n",
    "```\n",
    ":::"
   ]
  },
  {
   "cell_type": "code",
   "execution_count": 27,
   "metadata": {},
   "outputs": [],
   "source": [
    "#| exports\n",
    "def create_client(\n",
    "    # key_path: str = None,\n",
    "    auth_scopes: [str] = [],  # eg: [\"bigquery\", \"drive\"]\n",
    "):\n",
    "    \"\"\"Create a BigQuery client with the given auth scopes.\"\"\"\n",
    "    if len(auth_scopes) == 0:\n",
    "        logger.debug(\"Using default BigQuery client\")\n",
    "        return bigquery.Client()\n",
    "    else:\n",
    "        # to pull files from drive or other services, we need to authenticate\n",
    "        import google.auth\n",
    "        credentials, project = google.auth.default(\n",
    "            [f\"https://www.googleapis.com/auth/{service}\" for service in auth_scopes]\n",
    "        )\n",
    "        logger.debug(f\"Using BigQuery client with auth scopes: {auth_scopes}\")\n",
    "        return bigquery.Client(\n",
    "            credentials=credentials,\n",
    "            project=project,\n",
    "        )"
   ]
  },
  {
   "cell_type": "markdown",
   "metadata": {},
   "source": [
    "`create_client()` is a simple wrapper around `bigquery.Client()` that uses the `GOOGLE_APPLICATION_CREDENTIALS` environment variable to authenticate. This is the recommended way to authenticate with BigQuery.\n",
    "\n",
    "To set up `GOOGLE_APPLICATION_CREDENTIALS`:\n",
    "```sh\n",
    "export GOOGLE_APPLICATION_CREDENTIALS=\"/path/to/key.json\"\n",
    "```\n",
    ":::{.callout-note}\n",
    "replace `/path/to/key.json` with the path to your key file.\n",
    ":::\n",
    "---"
   ]
  },
  {
   "cell_type": "markdown",
   "metadata": {},
   "source": [
    "## Slot Memory Usage"
   ]
  },
  {
   "cell_type": "code",
   "execution_count": 25,
   "metadata": {},
   "outputs": [],
   "source": [
    "def memory_usage(\n",
    "    query:str, # Query\n",
    "    client: bigquery.Client = None # BigQuery's Client Object\n",
    ") -> str : # GB(s) required to process this query\n",
    "    \"\"\"Memory required to process this query\n",
    "    This number is the same that appears in the bigquery\n",
    "    console: \"This query will process _ when run.\"\n",
    "\n",
    "    \"\"\"\n",
    "    job_config = bigquery.QueryJobConfig(dry_run=True, use_query_cache=False)\n",
    "\n",
    "    if client:\n",
    "        query_job = client.query(query, job_config=job_config)\n",
    "    else:\n",
    "        with create_client() as client:\n",
    "            query_job = client.query(query, job_config=job_config)\n",
    "\n",
    "    _gb = query_job.total_bytes_processed / 2**30\n",
    "    return str(round(_gb, 2)) + \"GB\""
   ]
  },
  {
   "cell_type": "code",
   "execution_count": 26,
   "metadata": {},
   "outputs": [
    {
     "data": {
      "text/plain": [
       "'0.0GB'"
      ]
     },
     "execution_count": 26,
     "metadata": {},
     "output_type": "execute_result"
    }
   ],
   "source": [
    "# tests\n",
    "memory_usage(\"SELECT 1;\")"
   ]
  },
  {
   "cell_type": "markdown",
   "metadata": {},
   "source": [
    "---"
   ]
  },
  {
   "cell_type": "markdown",
   "metadata": {},
   "source": [
    "## Query to Dataframe"
   ]
  },
  {
   "cell_type": "code",
   "execution_count": 10,
   "metadata": {},
   "outputs": [],
   "source": [
    "#| exports\n",
    "def query_to_dataframe( sql: str, bq_client: bigquery.Client=None) -> pd.DataFrame:\n",
    "    \"\"\"\n",
    "    Query -> DataFrame\n",
    "    \"\"\"\n",
    "    logging.info(f\"Querying BigQuery: {sql}\")\n",
    "    if bq_client is None:\n",
    "        logging.debug(\"Creating new BigQuery client\")\n",
    "        with bigquery.Client() as bq_client:\n",
    "            dataframe = bq_client.query(sql).to_dataframe()\n",
    "    else:\n",
    "        dataframe = bq_client.query(sql).to_dataframe()\n",
    "\n",
    "    logging.info(f\"dataframe.shape: {dataframe.shape}\")\n",
    "    \n",
    "    return dataframe"
   ]
  },
  {
   "cell_type": "code",
   "execution_count": 12,
   "metadata": {},
   "outputs": [
    {
     "data": {
      "text/html": [
       "<div>\n",
       "<style scoped>\n",
       "    .dataframe tbody tr th:only-of-type {\n",
       "        vertical-align: middle;\n",
       "    }\n",
       "\n",
       "    .dataframe tbody tr th {\n",
       "        vertical-align: top;\n",
       "    }\n",
       "\n",
       "    .dataframe thead th {\n",
       "        text-align: right;\n",
       "    }\n",
       "</style>\n",
       "<table border=\"1\" class=\"dataframe\">\n",
       "  <thead>\n",
       "    <tr style=\"text-align: right;\">\n",
       "      <th></th>\n",
       "      <th>f0_</th>\n",
       "    </tr>\n",
       "  </thead>\n",
       "  <tbody>\n",
       "    <tr>\n",
       "      <th>0</th>\n",
       "      <td>1</td>\n",
       "    </tr>\n",
       "  </tbody>\n",
       "</table>\n",
       "</div>"
      ],
      "text/plain": [
       "   f0_\n",
       "0    1"
      ]
     },
     "metadata": {},
     "output_type": "display_data"
    },
    {
     "data": {
      "text/html": [
       "<div>\n",
       "<style scoped>\n",
       "    .dataframe tbody tr th:only-of-type {\n",
       "        vertical-align: middle;\n",
       "    }\n",
       "\n",
       "    .dataframe tbody tr th {\n",
       "        vertical-align: top;\n",
       "    }\n",
       "\n",
       "    .dataframe thead th {\n",
       "        text-align: right;\n",
       "    }\n",
       "</style>\n",
       "<table border=\"1\" class=\"dataframe\">\n",
       "  <thead>\n",
       "    <tr style=\"text-align: right;\">\n",
       "      <th></th>\n",
       "      <th>f0_</th>\n",
       "    </tr>\n",
       "  </thead>\n",
       "  <tbody>\n",
       "    <tr>\n",
       "      <th>0</th>\n",
       "      <td>1</td>\n",
       "    </tr>\n",
       "  </tbody>\n",
       "</table>\n",
       "</div>"
      ],
      "text/plain": [
       "   f0_\n",
       "0    1"
      ]
     },
     "metadata": {},
     "output_type": "display_data"
    }
   ],
   "source": [
    "# tests\n",
    "display(query_to_dataframe(\"SELECT 1;\"))\n",
    "client = bigquery.Client()\n",
    "display(query_to_dataframe(\"SELECT 1;\", client))"
   ]
  },
  {
   "cell_type": "markdown",
   "metadata": {},
   "source": [
    "---"
   ]
  },
  {
   "cell_type": "code",
   "execution_count": 7,
   "metadata": {},
   "outputs": [],
   "source": [
    "#| hide\n",
    "import nbdev; nbdev.nbdev_export()"
   ]
  }
 ],
 "metadata": {
  "kernelspec": {
   "display_name": "Python 3 (ipykernel)",
   "language": "python",
   "name": "python3"
  },
  "language_info": {
   "codemirror_mode": {
    "name": "ipython",
    "version": 3
   },
   "file_extension": ".py",
   "mimetype": "text/x-python",
   "name": "python",
   "nbconvert_exporter": "python",
   "pygments_lexer": "ipython3",
   "version": "3.10.6"
  }
 },
 "nbformat": 4,
 "nbformat_minor": 4
}
