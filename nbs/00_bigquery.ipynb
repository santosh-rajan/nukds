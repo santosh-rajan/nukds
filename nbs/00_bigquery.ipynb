{
 "cells": [
  {
   "cell_type": "markdown",
   "metadata": {},
   "source": [
    "# Bigquery\n",
    "\n",
    "> Everything needed to get started to query from and query to "
   ]
  },
  {
   "cell_type": "code",
   "execution_count": null,
   "metadata": {},
   "outputs": [],
   "source": [
    "#| default_exp bigquery"
   ]
  },
  {
   "cell_type": "code",
   "execution_count": null,
   "metadata": {},
   "outputs": [],
   "source": [
    "#| hide\n",
    "from nbdev.showdoc import *\n",
    "from google.cloud import bigquery"
   ]
  },
  {
   "cell_type": "markdown",
   "metadata": {},
   "source": [
    "## Initilize Client"
   ]
  },
  {
   "cell_type": "code",
   "execution_count": 2,
   "metadata": {},
   "outputs": [],
   "source": [
    "def create_client(\n",
    "    auth_scopes: [str] = [],  # list of auth scopes eg: [\"bigquery\", \"drive\"]\n",
    "):\n",
    "    \"\"\"Create a BigQuery client with the given auth scopes.\"\"\"\n",
    "    if len(auth_scopes) == 0:\n",
    "        return bigquery.Client()\n",
    "    else:\n",
    "        import google.auth\n",
    "\n",
    "        credentials, project = google.auth.default(\n",
    "            [f\"https://www.googleapis.com/auth/{service}\" for service in []]\n",
    "        )\n",
    "        return bigquery.Client(\n",
    "            credentials=credentials,\n",
    "            project=project,\n",
    "        )\n"
   ]
  },
  {
   "cell_type": "code",
   "execution_count": null,
   "metadata": {},
   "outputs": [],
   "source": [
    "#| export\n",
    "def query_to_dataframe(bq_client, sql):\n",
    "    \"\"\"\n",
    "    Function to execute the sql query\n",
    "    Args:\n",
    "        bq_client: Bigquery client\n",
    "        sql : sql query\n",
    "    Returns:\n",
    "        Output query Results as a Data frame\n",
    "    \"\"\"\n",
    "    dataframe = bq_client.query(sql).to_dataframe()\n",
    "\n",
    "    return dataframe"
   ]
  },
  {
   "cell_type": "code",
   "execution_count": null,
   "metadata": {},
   "outputs": [],
   "source": [
    "#| hide\n",
    "import nbdev; nbdev.nbdev_export()"
   ]
  }
 ],
 "metadata": {
  "kernelspec": {
   "display_name": "Python 3 (ipykernel)",
   "language": "python",
   "name": "python3"
  },
  "language_info": {
   "codemirror_mode": {
    "name": "ipython",
    "version": 3
   },
   "file_extension": ".py",
   "mimetype": "text/x-python",
   "name": "python",
   "nbconvert_exporter": "python",
   "pygments_lexer": "ipython3",
   "version": "3.10.6"
  }
 },
 "nbformat": 4,
 "nbformat_minor": 4
}
